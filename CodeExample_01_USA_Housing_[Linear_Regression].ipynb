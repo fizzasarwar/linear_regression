{
  "cells": [
    {
      "cell_type": "code",
      "execution_count": null,
      "id": "6746954a",
      "metadata": {
        "id": "6746954a"
      },
      "outputs": [],
      "source": [
        "import numpy as np\n",
        "import pandas as pd"
      ]
    },
    {
      "cell_type": "code",
      "execution_count": null,
      "id": "9c7ca7f1",
      "metadata": {
        "id": "9c7ca7f1"
      },
      "outputs": [],
      "source": [
        "df=pd.read_csv('USA_Housing.csv')"
      ]
    },
    {
      "cell_type": "code",
      "execution_count": null,
      "id": "40d436a4",
      "metadata": {
        "id": "40d436a4",
        "outputId": "249c3fd6-4724-4fdb-8fb3-5f19cc03737d"
      },
      "outputs": [
        {
          "data": {
            "text/html": [
              "<div>\n",
              "<style scoped>\n",
              "    .dataframe tbody tr th:only-of-type {\n",
              "        vertical-align: middle;\n",
              "    }\n",
              "\n",
              "    .dataframe tbody tr th {\n",
              "        vertical-align: top;\n",
              "    }\n",
              "\n",
              "    .dataframe thead th {\n",
              "        text-align: right;\n",
              "    }\n",
              "</style>\n",
              "<table border=\"1\" class=\"dataframe\">\n",
              "  <thead>\n",
              "    <tr style=\"text-align: right;\">\n",
              "      <th></th>\n",
              "      <th>Avg. Area Income</th>\n",
              "      <th>Avg. Area House Age</th>\n",
              "      <th>Avg. Area Number of Rooms</th>\n",
              "      <th>Avg. Area Number of Bedrooms</th>\n",
              "      <th>Area Population</th>\n",
              "      <th>Price</th>\n",
              "      <th>Address</th>\n",
              "    </tr>\n",
              "  </thead>\n",
              "  <tbody>\n",
              "    <tr>\n",
              "      <th>0</th>\n",
              "      <td>79545.458574</td>\n",
              "      <td>5.682861</td>\n",
              "      <td>7.009188</td>\n",
              "      <td>4.09</td>\n",
              "      <td>23086.800503</td>\n",
              "      <td>1.059034e+06</td>\n",
              "      <td>208 Michael Ferry Apt. 674\\nLaurabury, NE 3701...</td>\n",
              "    </tr>\n",
              "    <tr>\n",
              "      <th>1</th>\n",
              "      <td>79248.642455</td>\n",
              "      <td>6.002900</td>\n",
              "      <td>6.730821</td>\n",
              "      <td>3.09</td>\n",
              "      <td>40173.072174</td>\n",
              "      <td>1.505891e+06</td>\n",
              "      <td>188 Johnson Views Suite 079\\nLake Kathleen, CA...</td>\n",
              "    </tr>\n",
              "    <tr>\n",
              "      <th>2</th>\n",
              "      <td>61287.067179</td>\n",
              "      <td>5.865890</td>\n",
              "      <td>8.512727</td>\n",
              "      <td>5.13</td>\n",
              "      <td>36882.159400</td>\n",
              "      <td>1.058988e+06</td>\n",
              "      <td>9127 Elizabeth Stravenue\\nDanieltown, WI 06482...</td>\n",
              "    </tr>\n",
              "    <tr>\n",
              "      <th>3</th>\n",
              "      <td>63345.240046</td>\n",
              "      <td>7.188236</td>\n",
              "      <td>5.586729</td>\n",
              "      <td>3.26</td>\n",
              "      <td>34310.242831</td>\n",
              "      <td>1.260617e+06</td>\n",
              "      <td>USS Barnett\\nFPO AP 44820</td>\n",
              "    </tr>\n",
              "    <tr>\n",
              "      <th>4</th>\n",
              "      <td>59982.197226</td>\n",
              "      <td>5.040555</td>\n",
              "      <td>7.839388</td>\n",
              "      <td>4.23</td>\n",
              "      <td>26354.109472</td>\n",
              "      <td>6.309435e+05</td>\n",
              "      <td>USNS Raymond\\nFPO AE 09386</td>\n",
              "    </tr>\n",
              "    <tr>\n",
              "      <th>...</th>\n",
              "      <td>...</td>\n",
              "      <td>...</td>\n",
              "      <td>...</td>\n",
              "      <td>...</td>\n",
              "      <td>...</td>\n",
              "      <td>...</td>\n",
              "      <td>...</td>\n",
              "    </tr>\n",
              "    <tr>\n",
              "      <th>4995</th>\n",
              "      <td>60567.944140</td>\n",
              "      <td>7.830362</td>\n",
              "      <td>6.137356</td>\n",
              "      <td>3.46</td>\n",
              "      <td>22837.361035</td>\n",
              "      <td>1.060194e+06</td>\n",
              "      <td>USNS Williams\\nFPO AP 30153-7653</td>\n",
              "    </tr>\n",
              "    <tr>\n",
              "      <th>4996</th>\n",
              "      <td>78491.275435</td>\n",
              "      <td>6.999135</td>\n",
              "      <td>6.576763</td>\n",
              "      <td>4.02</td>\n",
              "      <td>25616.115489</td>\n",
              "      <td>1.482618e+06</td>\n",
              "      <td>PSC 9258, Box 8489\\nAPO AA 42991-3352</td>\n",
              "    </tr>\n",
              "    <tr>\n",
              "      <th>4997</th>\n",
              "      <td>63390.686886</td>\n",
              "      <td>7.250591</td>\n",
              "      <td>4.805081</td>\n",
              "      <td>2.13</td>\n",
              "      <td>33266.145490</td>\n",
              "      <td>1.030730e+06</td>\n",
              "      <td>4215 Tracy Garden Suite 076\\nJoshualand, VA 01...</td>\n",
              "    </tr>\n",
              "    <tr>\n",
              "      <th>4998</th>\n",
              "      <td>68001.331235</td>\n",
              "      <td>5.534388</td>\n",
              "      <td>7.130144</td>\n",
              "      <td>5.44</td>\n",
              "      <td>42625.620156</td>\n",
              "      <td>1.198657e+06</td>\n",
              "      <td>USS Wallace\\nFPO AE 73316</td>\n",
              "    </tr>\n",
              "    <tr>\n",
              "      <th>4999</th>\n",
              "      <td>65510.581804</td>\n",
              "      <td>5.992305</td>\n",
              "      <td>6.792336</td>\n",
              "      <td>4.07</td>\n",
              "      <td>46501.283803</td>\n",
              "      <td>1.298950e+06</td>\n",
              "      <td>37778 George Ridges Apt. 509\\nEast Holly, NV 2...</td>\n",
              "    </tr>\n",
              "  </tbody>\n",
              "</table>\n",
              "<p>5000 rows × 7 columns</p>\n",
              "</div>"
            ],
            "text/plain": [
              "      Avg. Area Income  Avg. Area House Age  Avg. Area Number of Rooms  \\\n",
              "0         79545.458574             5.682861                   7.009188   \n",
              "1         79248.642455             6.002900                   6.730821   \n",
              "2         61287.067179             5.865890                   8.512727   \n",
              "3         63345.240046             7.188236                   5.586729   \n",
              "4         59982.197226             5.040555                   7.839388   \n",
              "...                ...                  ...                        ...   \n",
              "4995      60567.944140             7.830362                   6.137356   \n",
              "4996      78491.275435             6.999135                   6.576763   \n",
              "4997      63390.686886             7.250591                   4.805081   \n",
              "4998      68001.331235             5.534388                   7.130144   \n",
              "4999      65510.581804             5.992305                   6.792336   \n",
              "\n",
              "      Avg. Area Number of Bedrooms  Area Population         Price  \\\n",
              "0                             4.09     23086.800503  1.059034e+06   \n",
              "1                             3.09     40173.072174  1.505891e+06   \n",
              "2                             5.13     36882.159400  1.058988e+06   \n",
              "3                             3.26     34310.242831  1.260617e+06   \n",
              "4                             4.23     26354.109472  6.309435e+05   \n",
              "...                            ...              ...           ...   \n",
              "4995                          3.46     22837.361035  1.060194e+06   \n",
              "4996                          4.02     25616.115489  1.482618e+06   \n",
              "4997                          2.13     33266.145490  1.030730e+06   \n",
              "4998                          5.44     42625.620156  1.198657e+06   \n",
              "4999                          4.07     46501.283803  1.298950e+06   \n",
              "\n",
              "                                                Address  \n",
              "0     208 Michael Ferry Apt. 674\\nLaurabury, NE 3701...  \n",
              "1     188 Johnson Views Suite 079\\nLake Kathleen, CA...  \n",
              "2     9127 Elizabeth Stravenue\\nDanieltown, WI 06482...  \n",
              "3                             USS Barnett\\nFPO AP 44820  \n",
              "4                            USNS Raymond\\nFPO AE 09386  \n",
              "...                                                 ...  \n",
              "4995                   USNS Williams\\nFPO AP 30153-7653  \n",
              "4996              PSC 9258, Box 8489\\nAPO AA 42991-3352  \n",
              "4997  4215 Tracy Garden Suite 076\\nJoshualand, VA 01...  \n",
              "4998                          USS Wallace\\nFPO AE 73316  \n",
              "4999  37778 George Ridges Apt. 509\\nEast Holly, NV 2...  \n",
              "\n",
              "[5000 rows x 7 columns]"
            ]
          },
          "execution_count": 4,
          "metadata": {},
          "output_type": "execute_result"
        }
      ],
      "source": [
        "df"
      ]
    },
    {
      "cell_type": "code",
      "execution_count": null,
      "id": "ddc5f038",
      "metadata": {
        "id": "ddc5f038",
        "outputId": "f04d3575-11de-4263-9b4e-74e2af79c322"
      },
      "outputs": [
        {
          "name": "stdout",
          "output_type": "stream",
          "text": [
            "<class 'pandas.core.frame.DataFrame'>\n",
            "RangeIndex: 5000 entries, 0 to 4999\n",
            "Data columns (total 7 columns):\n",
            " #   Column                        Non-Null Count  Dtype  \n",
            "---  ------                        --------------  -----  \n",
            " 0   Avg. Area Income              5000 non-null   float64\n",
            " 1   Avg. Area House Age           5000 non-null   float64\n",
            " 2   Avg. Area Number of Rooms     5000 non-null   float64\n",
            " 3   Avg. Area Number of Bedrooms  5000 non-null   float64\n",
            " 4   Area Population               5000 non-null   float64\n",
            " 5   Price                         5000 non-null   float64\n",
            " 6   Address                       5000 non-null   object \n",
            "dtypes: float64(6), object(1)\n",
            "memory usage: 273.6+ KB\n"
          ]
        }
      ],
      "source": [
        "df.info()"
      ]
    },
    {
      "cell_type": "code",
      "execution_count": null,
      "id": "482a30fb",
      "metadata": {
        "id": "482a30fb"
      },
      "outputs": [],
      "source": [
        "df=df.drop('Address', axis=1)"
      ]
    },
    {
      "cell_type": "code",
      "execution_count": null,
      "id": "78a63866",
      "metadata": {
        "id": "78a63866",
        "outputId": "fa17045d-63d6-4e74-f6ba-450fc7cb555b"
      },
      "outputs": [
        {
          "data": {
            "text/html": [
              "<div>\n",
              "<style scoped>\n",
              "    .dataframe tbody tr th:only-of-type {\n",
              "        vertical-align: middle;\n",
              "    }\n",
              "\n",
              "    .dataframe tbody tr th {\n",
              "        vertical-align: top;\n",
              "    }\n",
              "\n",
              "    .dataframe thead th {\n",
              "        text-align: right;\n",
              "    }\n",
              "</style>\n",
              "<table border=\"1\" class=\"dataframe\">\n",
              "  <thead>\n",
              "    <tr style=\"text-align: right;\">\n",
              "      <th></th>\n",
              "      <th>Avg. Area Income</th>\n",
              "      <th>Avg. Area House Age</th>\n",
              "      <th>Avg. Area Number of Rooms</th>\n",
              "      <th>Avg. Area Number of Bedrooms</th>\n",
              "      <th>Area Population</th>\n",
              "      <th>Price</th>\n",
              "    </tr>\n",
              "  </thead>\n",
              "  <tbody>\n",
              "    <tr>\n",
              "      <th>0</th>\n",
              "      <td>79545.458574</td>\n",
              "      <td>5.682861</td>\n",
              "      <td>7.009188</td>\n",
              "      <td>4.09</td>\n",
              "      <td>23086.800503</td>\n",
              "      <td>1.059034e+06</td>\n",
              "    </tr>\n",
              "    <tr>\n",
              "      <th>1</th>\n",
              "      <td>79248.642455</td>\n",
              "      <td>6.002900</td>\n",
              "      <td>6.730821</td>\n",
              "      <td>3.09</td>\n",
              "      <td>40173.072174</td>\n",
              "      <td>1.505891e+06</td>\n",
              "    </tr>\n",
              "    <tr>\n",
              "      <th>2</th>\n",
              "      <td>61287.067179</td>\n",
              "      <td>5.865890</td>\n",
              "      <td>8.512727</td>\n",
              "      <td>5.13</td>\n",
              "      <td>36882.159400</td>\n",
              "      <td>1.058988e+06</td>\n",
              "    </tr>\n",
              "    <tr>\n",
              "      <th>3</th>\n",
              "      <td>63345.240046</td>\n",
              "      <td>7.188236</td>\n",
              "      <td>5.586729</td>\n",
              "      <td>3.26</td>\n",
              "      <td>34310.242831</td>\n",
              "      <td>1.260617e+06</td>\n",
              "    </tr>\n",
              "    <tr>\n",
              "      <th>4</th>\n",
              "      <td>59982.197226</td>\n",
              "      <td>5.040555</td>\n",
              "      <td>7.839388</td>\n",
              "      <td>4.23</td>\n",
              "      <td>26354.109472</td>\n",
              "      <td>6.309435e+05</td>\n",
              "    </tr>\n",
              "    <tr>\n",
              "      <th>...</th>\n",
              "      <td>...</td>\n",
              "      <td>...</td>\n",
              "      <td>...</td>\n",
              "      <td>...</td>\n",
              "      <td>...</td>\n",
              "      <td>...</td>\n",
              "    </tr>\n",
              "    <tr>\n",
              "      <th>4995</th>\n",
              "      <td>60567.944140</td>\n",
              "      <td>7.830362</td>\n",
              "      <td>6.137356</td>\n",
              "      <td>3.46</td>\n",
              "      <td>22837.361035</td>\n",
              "      <td>1.060194e+06</td>\n",
              "    </tr>\n",
              "    <tr>\n",
              "      <th>4996</th>\n",
              "      <td>78491.275435</td>\n",
              "      <td>6.999135</td>\n",
              "      <td>6.576763</td>\n",
              "      <td>4.02</td>\n",
              "      <td>25616.115489</td>\n",
              "      <td>1.482618e+06</td>\n",
              "    </tr>\n",
              "    <tr>\n",
              "      <th>4997</th>\n",
              "      <td>63390.686886</td>\n",
              "      <td>7.250591</td>\n",
              "      <td>4.805081</td>\n",
              "      <td>2.13</td>\n",
              "      <td>33266.145490</td>\n",
              "      <td>1.030730e+06</td>\n",
              "    </tr>\n",
              "    <tr>\n",
              "      <th>4998</th>\n",
              "      <td>68001.331235</td>\n",
              "      <td>5.534388</td>\n",
              "      <td>7.130144</td>\n",
              "      <td>5.44</td>\n",
              "      <td>42625.620156</td>\n",
              "      <td>1.198657e+06</td>\n",
              "    </tr>\n",
              "    <tr>\n",
              "      <th>4999</th>\n",
              "      <td>65510.581804</td>\n",
              "      <td>5.992305</td>\n",
              "      <td>6.792336</td>\n",
              "      <td>4.07</td>\n",
              "      <td>46501.283803</td>\n",
              "      <td>1.298950e+06</td>\n",
              "    </tr>\n",
              "  </tbody>\n",
              "</table>\n",
              "<p>5000 rows × 6 columns</p>\n",
              "</div>"
            ],
            "text/plain": [
              "      Avg. Area Income  Avg. Area House Age  Avg. Area Number of Rooms  \\\n",
              "0         79545.458574             5.682861                   7.009188   \n",
              "1         79248.642455             6.002900                   6.730821   \n",
              "2         61287.067179             5.865890                   8.512727   \n",
              "3         63345.240046             7.188236                   5.586729   \n",
              "4         59982.197226             5.040555                   7.839388   \n",
              "...                ...                  ...                        ...   \n",
              "4995      60567.944140             7.830362                   6.137356   \n",
              "4996      78491.275435             6.999135                   6.576763   \n",
              "4997      63390.686886             7.250591                   4.805081   \n",
              "4998      68001.331235             5.534388                   7.130144   \n",
              "4999      65510.581804             5.992305                   6.792336   \n",
              "\n",
              "      Avg. Area Number of Bedrooms  Area Population         Price  \n",
              "0                             4.09     23086.800503  1.059034e+06  \n",
              "1                             3.09     40173.072174  1.505891e+06  \n",
              "2                             5.13     36882.159400  1.058988e+06  \n",
              "3                             3.26     34310.242831  1.260617e+06  \n",
              "4                             4.23     26354.109472  6.309435e+05  \n",
              "...                            ...              ...           ...  \n",
              "4995                          3.46     22837.361035  1.060194e+06  \n",
              "4996                          4.02     25616.115489  1.482618e+06  \n",
              "4997                          2.13     33266.145490  1.030730e+06  \n",
              "4998                          5.44     42625.620156  1.198657e+06  \n",
              "4999                          4.07     46501.283803  1.298950e+06  \n",
              "\n",
              "[5000 rows x 6 columns]"
            ]
          },
          "execution_count": 7,
          "metadata": {},
          "output_type": "execute_result"
        }
      ],
      "source": [
        "df"
      ]
    },
    {
      "cell_type": "code",
      "execution_count": null,
      "id": "5f875085",
      "metadata": {
        "id": "5f875085"
      },
      "outputs": [],
      "source": [
        "x=df.drop('Price',axis=1)"
      ]
    },
    {
      "cell_type": "code",
      "execution_count": null,
      "id": "2cd93389",
      "metadata": {
        "id": "2cd93389"
      },
      "outputs": [],
      "source": [
        "y=df['Price'] #target"
      ]
    },
    {
      "cell_type": "code",
      "execution_count": null,
      "id": "5592658f",
      "metadata": {
        "id": "5592658f",
        "outputId": "5ef1b64c-26af-468e-8996-58d5de99d21c"
      },
      "outputs": [
        {
          "data": {
            "text/plain": [
              "0       1.059034e+06\n",
              "1       1.505891e+06\n",
              "2       1.058988e+06\n",
              "3       1.260617e+06\n",
              "4       6.309435e+05\n",
              "            ...     \n",
              "4995    1.060194e+06\n",
              "4996    1.482618e+06\n",
              "4997    1.030730e+06\n",
              "4998    1.198657e+06\n",
              "4999    1.298950e+06\n",
              "Name: Price, Length: 5000, dtype: float64"
            ]
          },
          "execution_count": 13,
          "metadata": {},
          "output_type": "execute_result"
        }
      ],
      "source": [
        "y"
      ]
    },
    {
      "cell_type": "code",
      "execution_count": null,
      "id": "5834c015",
      "metadata": {
        "id": "5834c015"
      },
      "outputs": [],
      "source": [
        "from sklearn.linear_model import LinearRegression as LR"
      ]
    },
    {
      "cell_type": "code",
      "execution_count": null,
      "id": "d773fa11",
      "metadata": {
        "id": "d773fa11"
      },
      "outputs": [],
      "source": [
        "#split\n",
        "from sklearn.model_selection import train_test_split as tts"
      ]
    },
    {
      "cell_type": "code",
      "execution_count": null,
      "id": "a06189ec",
      "metadata": {
        "id": "a06189ec"
      },
      "outputs": [],
      "source": [
        "x_train, x_test, y_train, y_test=tts(x,y, test_size=0.3, random_state=101)"
      ]
    },
    {
      "cell_type": "code",
      "execution_count": null,
      "id": "570ce9a7",
      "metadata": {
        "id": "570ce9a7"
      },
      "outputs": [],
      "source": [
        "model=LR()"
      ]
    },
    {
      "cell_type": "code",
      "execution_count": null,
      "id": "15bccfbf",
      "metadata": {
        "id": "15bccfbf",
        "outputId": "d1dcefbf-a30a-47a4-9efa-6c466462abde"
      },
      "outputs": [
        {
          "data": {
            "text/plain": [
              "LinearRegression()"
            ]
          },
          "execution_count": 19,
          "metadata": {},
          "output_type": "execute_result"
        }
      ],
      "source": [
        "model.fit(x_train, y_train)"
      ]
    },
    {
      "cell_type": "code",
      "execution_count": null,
      "id": "9b54b9e1",
      "metadata": {
        "id": "9b54b9e1"
      },
      "outputs": [],
      "source": [
        "y_pred=model.predict(x_test)"
      ]
    },
    {
      "cell_type": "code",
      "execution_count": null,
      "id": "ef6bbf30",
      "metadata": {
        "id": "ef6bbf30",
        "outputId": "6d3d0847-80e2-4879-db8f-5294cad9fefc"
      },
      "outputs": [
        {
          "data": {
            "text/plain": [
              "array([1258934.8950529 ,  822694.63411047, 1742214.39530118, ...,\n",
              "       1452640.96473335,  645797.13026318, 1364943.76221892])"
            ]
          },
          "execution_count": 21,
          "metadata": {},
          "output_type": "execute_result"
        }
      ],
      "source": [
        "y_pred"
      ]
    },
    {
      "cell_type": "code",
      "execution_count": null,
      "id": "387d0a2b",
      "metadata": {
        "id": "387d0a2b",
        "outputId": "bd278a05-4dbb-4d8d-ca05-eec5f30cdf6c"
      },
      "outputs": [
        {
          "data": {
            "text/plain": [
              "1718    1.251689e+06\n",
              "2511    8.730483e+05\n",
              "345     1.696978e+06\n",
              "2521    1.063964e+06\n",
              "54      9.487883e+05\n",
              "Name: Price, dtype: float64"
            ]
          },
          "execution_count": 26,
          "metadata": {},
          "output_type": "execute_result"
        }
      ],
      "source": [
        "y_test.head()"
      ]
    },
    {
      "cell_type": "code",
      "execution_count": null,
      "id": "85d60c5a",
      "metadata": {
        "id": "85d60c5a"
      },
      "outputs": [],
      "source": [
        "from sklearn import metrics as m"
      ]
    },
    {
      "cell_type": "code",
      "execution_count": null,
      "id": "97f07e99",
      "metadata": {
        "id": "97f07e99",
        "outputId": "c97fb2a2-edc2-4106-a585-d2ba381906ef"
      },
      "outputs": [
        {
          "data": {
            "text/plain": [
              "100842.08"
            ]
          },
          "execution_count": 28,
          "metadata": {},
          "output_type": "execute_result"
        }
      ],
      "source": [
        "#RMSE\n",
        "np.sqrt(m.mean_squared_error(y_pred,y_test)).round(2)"
      ]
    },
    {
      "cell_type": "code",
      "execution_count": null,
      "id": "a1d37e17",
      "metadata": {
        "id": "a1d37e17",
        "outputId": "a3417c67-329f-4c61-89f9-5e4601038c3c"
      },
      "outputs": [
        {
          "data": {
            "text/plain": [
              "2654    6.676265\n",
              "2468    5.899076\n",
              "290     8.184511\n",
              "1463    6.606744\n",
              "4508    7.217268\n",
              "          ...   \n",
              "4171    7.558137\n",
              "599     6.539986\n",
              "1361    6.868291\n",
              "1547    5.913454\n",
              "4959    8.440726\n",
              "Name: Avg. Area Number of Rooms, Length: 3500, dtype: float64"
            ]
          },
          "execution_count": 47,
          "metadata": {},
          "output_type": "execute_result"
        }
      ],
      "source": [
        "x_train['Avg. Area Number of Rooms']"
      ]
    },
    {
      "cell_type": "code",
      "execution_count": null,
      "id": "2ae607ca",
      "metadata": {
        "id": "2ae607ca",
        "outputId": "d7faff14-8f4b-4a04-bb16-dff752c0858b"
      },
      "outputs": [
        {
          "data": {
            "text/plain": [
              "array([2.16176350e+01, 1.65221120e+05, 1.21405377e+05, 1.31871878e+03,\n",
              "       1.52251955e+01])"
            ]
          },
          "execution_count": 29,
          "metadata": {},
          "output_type": "execute_result"
        }
      ],
      "source": [
        "model.coef_"
      ]
    },
    {
      "cell_type": "code",
      "execution_count": null,
      "id": "d6fef3ce",
      "metadata": {
        "id": "d6fef3ce",
        "outputId": "976013a9-2338-41eb-c3e0-e9915b96536d"
      },
      "outputs": [
        {
          "data": {
            "text/plain": [
              "-2641372.667301231"
            ]
          },
          "execution_count": 30,
          "metadata": {},
          "output_type": "execute_result"
        }
      ],
      "source": [
        "model.intercept_"
      ]
    },
    {
      "cell_type": "code",
      "execution_count": null,
      "id": "52227b55",
      "metadata": {
        "id": "52227b55",
        "outputId": "c9a31231-da50-4dfd-995b-21961ab1b3a9"
      },
      "outputs": [
        {
          "data": {
            "text/plain": [
              "Index(['Avg. Area Income', 'Avg. Area House Age', 'Avg. Area Number of Rooms',\n",
              "       'Avg. Area Number of Bedrooms', 'Area Population'],\n",
              "      dtype='object')"
            ]
          },
          "execution_count": 31,
          "metadata": {},
          "output_type": "execute_result"
        }
      ],
      "source": [
        "x_train.columns"
      ]
    },
    {
      "cell_type": "code",
      "execution_count": null,
      "id": "8fc2c917",
      "metadata": {
        "id": "8fc2c917"
      },
      "outputs": [],
      "source": [
        "import matplotlib.pyplot as plt"
      ]
    },
    {
      "cell_type": "code",
      "execution_count": null,
      "id": "48d421f1",
      "metadata": {
        "id": "48d421f1"
      },
      "outputs": [],
      "source": [
        "testArray=np.array(x_test['Avg. Area House Age'])"
      ]
    },
    {
      "cell_type": "code",
      "execution_count": null,
      "id": "3cd44242",
      "metadata": {
        "id": "3cd44242"
      },
      "outputs": [],
      "source": [
        "testArray.sort()"
      ]
    },
    {
      "cell_type": "code",
      "execution_count": null,
      "id": "e1e5dd1a",
      "metadata": {
        "id": "e1e5dd1a",
        "outputId": "3ed0cb1f-1cbe-4de4-a95f-a7b790264f79"
      },
      "outputs": [
        {
          "data": {
            "text/plain": [
              "array([2.64430419, 2.6830429 , 3.05537033, ..., 8.70295965, 9.00890009,\n",
              "       9.12528287])"
            ]
          },
          "execution_count": 50,
          "metadata": {},
          "output_type": "execute_result"
        }
      ],
      "source": [
        "testArray"
      ]
    },
    {
      "cell_type": "code",
      "execution_count": null,
      "id": "e3aaec43",
      "metadata": {
        "id": "e3aaec43",
        "outputId": "1001e1ca-1293-4f3a-d0d8-7fe896dc7073"
      },
      "outputs": [
        {
          "data": {
            "text/plain": [
              "array([1258934.8950529 ,  822694.63411047, 1742214.39530118, ...,\n",
              "       1452640.96473335,  645797.13026318, 1364943.76221892])"
            ]
          },
          "execution_count": 51,
          "metadata": {},
          "output_type": "execute_result"
        }
      ],
      "source": [
        "y_pred"
      ]
    },
    {
      "cell_type": "code",
      "execution_count": null,
      "id": "b86dacfd",
      "metadata": {
        "id": "b86dacfd",
        "outputId": "e6761157-e91f-4db0-e6e5-99918554bb65"
      },
      "outputs": [
        {
          "data": {
            "image/png": "[encoded data removed]",
            "text/plain": [
              "<Figure size 432x288 with 1 Axes>"
            ]
          },
          "metadata": {
            "needs_background": "light"
          },
          "output_type": "display_data"
        }
      ],
      "source": [
        "plt.scatter(x_test['Avg. Area House Age'], y_test)\n",
        "plt.plot(testArray, y_pred, color='orange')\n",
        "plt.xlim()\n",
        "plt.show()"
      ]
    },
    {
      "cell_type": "code",
      "execution_count": null,
      "id": "4ddaa3b1",
      "metadata": {
        "id": "4ddaa3b1",
        "outputId": "72cfd116-b0c1-47d5-a4ac-c84fb22713be"
      },
      "outputs": [
        {
          "data": {
            "text/html": [
              "<div>\n",
              "<style scoped>\n",
              "    .dataframe tbody tr th:only-of-type {\n",
              "        vertical-align: middle;\n",
              "    }\n",
              "\n",
              "    .dataframe tbody tr th {\n",
              "        vertical-align: top;\n",
              "    }\n",
              "\n",
              "    .dataframe thead th {\n",
              "        text-align: right;\n",
              "    }\n",
              "</style>\n",
              "<table border=\"1\" class=\"dataframe\">\n",
              "  <thead>\n",
              "    <tr style=\"text-align: right;\">\n",
              "      <th></th>\n",
              "      <th>Avg. Area Income</th>\n",
              "      <th>Avg. Area House Age</th>\n",
              "      <th>Avg. Area Number of Rooms</th>\n",
              "      <th>Avg. Area Number of Bedrooms</th>\n",
              "      <th>Area Population</th>\n",
              "    </tr>\n",
              "  </thead>\n",
              "  <tbody>\n",
              "    <tr>\n",
              "      <th>2654</th>\n",
              "      <td>86690.873301</td>\n",
              "      <td>6.259901</td>\n",
              "      <td>6.676265</td>\n",
              "      <td>3.23</td>\n",
              "      <td>42589.624391</td>\n",
              "    </tr>\n",
              "    <tr>\n",
              "      <th>2468</th>\n",
              "      <td>59866.947700</td>\n",
              "      <td>5.870330</td>\n",
              "      <td>5.899076</td>\n",
              "      <td>4.16</td>\n",
              "      <td>32064.597156</td>\n",
              "    </tr>\n",
              "    <tr>\n",
              "      <th>290</th>\n",
              "      <td>74372.138452</td>\n",
              "      <td>6.562380</td>\n",
              "      <td>8.184511</td>\n",
              "      <td>6.35</td>\n",
              "      <td>34321.960155</td>\n",
              "    </tr>\n",
              "    <tr>\n",
              "      <th>1463</th>\n",
              "      <td>61370.323490</td>\n",
              "      <td>6.529605</td>\n",
              "      <td>6.606744</td>\n",
              "      <td>4.30</td>\n",
              "      <td>20600.511000</td>\n",
              "    </tr>\n",
              "    <tr>\n",
              "      <th>4508</th>\n",
              "      <td>52652.652336</td>\n",
              "      <td>5.688943</td>\n",
              "      <td>7.217268</td>\n",
              "      <td>4.06</td>\n",
              "      <td>34776.585907</td>\n",
              "    </tr>\n",
              "    <tr>\n",
              "      <th>...</th>\n",
              "      <td>...</td>\n",
              "      <td>...</td>\n",
              "      <td>...</td>\n",
              "      <td>...</td>\n",
              "      <td>...</td>\n",
              "    </tr>\n",
              "    <tr>\n",
              "      <th>4171</th>\n",
              "      <td>56610.642563</td>\n",
              "      <td>4.846832</td>\n",
              "      <td>7.558137</td>\n",
              "      <td>3.29</td>\n",
              "      <td>25494.740298</td>\n",
              "    </tr>\n",
              "    <tr>\n",
              "      <th>599</th>\n",
              "      <td>70596.850945</td>\n",
              "      <td>6.548274</td>\n",
              "      <td>6.539986</td>\n",
              "      <td>3.10</td>\n",
              "      <td>51614.830136</td>\n",
              "    </tr>\n",
              "    <tr>\n",
              "      <th>1361</th>\n",
              "      <td>55621.899104</td>\n",
              "      <td>3.735942</td>\n",
              "      <td>6.868291</td>\n",
              "      <td>2.30</td>\n",
              "      <td>63184.613147</td>\n",
              "    </tr>\n",
              "    <tr>\n",
              "      <th>1547</th>\n",
              "      <td>63044.460096</td>\n",
              "      <td>5.935261</td>\n",
              "      <td>5.913454</td>\n",
              "      <td>4.10</td>\n",
              "      <td>32725.279544</td>\n",
              "    </tr>\n",
              "    <tr>\n",
              "      <th>4959</th>\n",
              "      <td>75078.791516</td>\n",
              "      <td>7.644779</td>\n",
              "      <td>8.440726</td>\n",
              "      <td>4.33</td>\n",
              "      <td>56148.449322</td>\n",
              "    </tr>\n",
              "  </tbody>\n",
              "</table>\n",
              "<p>3500 rows × 5 columns</p>\n",
              "</div>"
            ],
            "text/plain": [
              "      Avg. Area Income  Avg. Area House Age  Avg. Area Number of Rooms  \\\n",
              "2654      86690.873301             6.259901                   6.676265   \n",
              "2468      59866.947700             5.870330                   5.899076   \n",
              "290       74372.138452             6.562380                   8.184511   \n",
              "1463      61370.323490             6.529605                   6.606744   \n",
              "4508      52652.652336             5.688943                   7.217268   \n",
              "...                ...                  ...                        ...   \n",
              "4171      56610.642563             4.846832                   7.558137   \n",
              "599       70596.850945             6.548274                   6.539986   \n",
              "1361      55621.899104             3.735942                   6.868291   \n",
              "1547      63044.460096             5.935261                   5.913454   \n",
              "4959      75078.791516             7.644779                   8.440726   \n",
              "\n",
              "      Avg. Area Number of Bedrooms  Area Population  \n",
              "2654                          3.23     42589.624391  \n",
              "2468                          4.16     32064.597156  \n",
              "290                           6.35     34321.960155  \n",
              "1463                          4.30     20600.511000  \n",
              "4508                          4.06     34776.585907  \n",
              "...                            ...              ...  \n",
              "4171                          3.29     25494.740298  \n",
              "599                           3.10     51614.830136  \n",
              "1361                          2.30     63184.613147  \n",
              "1547                          4.10     32725.279544  \n",
              "4959                          4.33     56148.449322  \n",
              "\n",
              "[3500 rows x 5 columns]"
            ]
          },
          "execution_count": 53,
          "metadata": {},
          "output_type": "execute_result"
        }
      ],
      "source": [
        "x_train"
      ]
    },
    {
      "cell_type": "code",
      "execution_count": null,
      "id": "72ac008b",
      "metadata": {
        "id": "72ac008b"
      },
      "outputs": [],
      "source": [
        "unseen_data=np.array([75078.791516,4.846832,6.539986,3.10,25494.740298]).reshape(-1,5)"
      ]
    },
    {
      "cell_type": "code",
      "execution_count": null,
      "id": "48699662",
      "metadata": {
        "id": "48699662",
        "outputId": "ec33fae8-3886-44fc-c107-65f1c3947b4c"
      },
      "outputs": [
        {
          "data": {
            "text/plain": [
              "(1, 5)"
            ]
          },
          "execution_count": 62,
          "metadata": {},
          "output_type": "execute_result"
        }
      ],
      "source": [
        "unseen_data.shape"
      ]
    },
    {
      "cell_type": "code",
      "execution_count": null,
      "id": "072a0a5f",
      "metadata": {
        "id": "072a0a5f",
        "outputId": "ece337b7-697c-495e-e622-6c5813c39125"
      },
      "outputs": [
        {
          "data": {
            "text/plain": [
              "array([968692.15100957])"
            ]
          },
          "execution_count": 63,
          "metadata": {},
          "output_type": "execute_result"
        }
      ],
      "source": [
        "model.predict(unseen_data)"
      ]
    },
    {
      "cell_type": "code",
      "execution_count": null,
      "id": "7637a0f5",
      "metadata": {
        "id": "7637a0f5"
      },
      "outputs": [],
      "source": [
        ""
      ]
    }
  ],
  "metadata": {
    "kernelspec": {
      "display_name": "Python 3",
      "language": "python",
      "name": "python3"
    },
    "language_info": {
      "codemirror_mode": {
        "name": "ipython",
        "version": 3
      },
      "file_extension": ".py",
      "mimetype": "text/x-python",
      "name": "python",
      "nbconvert_exporter": "python",
      "pygments_lexer": "ipython3",
      "version": "3.8.8"
    },
    "colab": {
      "name": "CodeExample#01 - USA Housing [Linear Regression].ipynb",
      "provenance": []
    }
  },
  "nbformat": 4,
  "nbformat_minor": 5
}